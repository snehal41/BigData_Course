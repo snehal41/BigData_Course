{
 "cells": [
  {
   "cell_type": "raw",
   "id": "bcbfadf1-87ec-45a2-ae29-8f1456a4d70c",
   "metadata": {},
   "source": [
    "## Assignment Part-1\n",
    "Q1. Why do we call Python as a general purpose and high-level programming language?\n",
    "    its easy for humans to understand and it works around data(objects).\n",
    "\n",
    "Q2. Why is Python called a dynamically typed language?\n",
    "    it takes care of memory management we dont even need to do declare variable python assigns memory at runtime.\n",
    "\n",
    "Q3. List some pros and cons of Python programming language?\n",
    "    Pros :\n",
    "    1.easy to understand\n",
    "    2.Dynamically typed \n",
    "    3.High level language \n",
    "    4.free open source\n",
    "    5.vast collection of libraries \n",
    "\n",
    "    Cons :\n",
    "    1.speed limitation due to line by line execution\n",
    "    2. weak in mobile & browser  devlopment \n",
    "\n",
    "\n",
    "Q4. In what all domains can we use Python?\n",
    "    AI ,ML & DL\n",
    "    Data Science\n",
    "    Gaming\n",
    "    BFS\n",
    "    \n",
    "Q5. What are variable and how can we declare them?\n",
    "    variable is reference to an object \n",
    "    var_name=value\n",
    "\n",
    "Q6. How can we take an input from the user in Python?\n",
    "    var=input(\"statement\")\n",
    "\n",
    "Q7. What is the default datatype of the value that has been taken as an input using input() function?\n",
    "    input() returns string.\n",
    "\n",
    "Q8. What is type casting?\n",
    "    converting value of one datatype to another datatype.\n",
    "    e.g. abc=\"123\"\n",
    "        num1=int(abc)\n",
    "\n",
    "Q9. Can we take more than one input from the user using single input() function? If yes, how? If no, why?\n",
    "    yes using split() function with input()we can take multiple inputs from user \n",
    "    x, y = input(\"Enter two values: \").split()\n",
    "\n",
    "Q10. What are keywords?\n",
    "    keywords are special reserved words for special purposes\n",
    "\n",
    "Q11. Can we use keywords as a variable? Support your answer with reason.\n",
    "    No.because they are predefined and have some special meaning.\n",
    "\n",
    "Q12. What is indentation? What's the use of indentaion in Python?\n",
    "    indentation are spaces before the line of code.\n",
    "    in python indentation refers to the block of code.\n",
    "\n",
    "Q13. How can we throw some output in Python?\n",
    "    Print(\"Statement\")\n",
    "\n",
    "Q14. What are operators in Python?\n",
    "    Arithmetic operators +  -  *  /  //\n",
    "    Assignment operators = == += -= *= /=\n",
    "    Comparison operators >= <= > < !=\n",
    "    Logical operators and or not \n",
    "\n",
    "\n",
    "Q15. What is difference between / and // operators?\n",
    "    / - divison operator returns float value \n",
    "    // - floor divison returns the wholenumber.\n",
    "    \n"
   ]
  },
  {
   "cell_type": "markdown",
   "id": "f2210b54-83b7-457f-b18c-d67661efcc02",
   "metadata": {},
   "source": [
    "Q16. Write a code that gives following as an output.\n",
    "```\n",
    "iNeuroniNeuroniNeuroniNeuron"
   ]
  },
  {
   "cell_type": "code",
   "execution_count": 1,
   "id": "b48021df-e473-4042-9d1f-6397f9cf5a57",
   "metadata": {},
   "outputs": [
    {
     "name": "stdout",
     "output_type": "stream",
     "text": [
      "iNeuroniNeuroniNeuroniNeuron\n"
     ]
    }
   ],
   "source": [
    "print('iNeuron'*4)"
   ]
  },
  {
   "cell_type": "markdown",
   "id": "a9ebffac-288b-4803-9184-0c23664b503f",
   "metadata": {},
   "source": [
    "Q17. Write a code to take a number as an input from the user and check if the number is odd or even."
   ]
  },
  {
   "cell_type": "code",
   "execution_count": 3,
   "id": "94ac758a-c56a-49e3-b2d6-81c03b2e0adb",
   "metadata": {},
   "outputs": [
    {
     "name": "stdin",
     "output_type": "stream",
     "text": [
      "Enter A number 12\n"
     ]
    },
    {
     "name": "stdout",
     "output_type": "stream",
     "text": [
      "even\n"
     ]
    }
   ],
   "source": [
    "num=int(input(\"Enter A number\"))\n",
    "if num%2==0:\n",
    "    print(\"even\")\n",
    "else:\n",
    "    print(\"odd\")"
   ]
  },
  {
   "cell_type": "markdown",
   "id": "68864759-5dbb-49ce-895b-b9cc6e09bfa9",
   "metadata": {},
   "source": [
    "Q18. What are boolean operator?\n",
    "    Boolean Operators are simple words (AND, OR, NOT or AND NOT) used as conjunctions to combine or exclude keywords in a search, resulting in more focused and productive results.\n",
    "\n",
    "Q19. What will the output of the following?\n",
    "```\n",
    "1 or 0\n",
    "\n",
    "\n",
    "0 and 0\n",
    "\n",
    "True and False and True\n",
    "\n",
    "1 or 0 or 0\n",
    "```\n",
    "    output :\n",
    "    1\n",
    "    0\n",
    "    False\n",
    "    1\n",
    "\n",
    "Q20. What are conditional statements in Python?\n",
    "    1. if statement \n",
    "     if (condition):\n",
    "         statement\n",
    "    2. if else statement\n",
    "     if (condition):\n",
    "        statement\n",
    "     else:\n",
    "        statement\n",
    "    3.if elif else statemnt\n",
    "    if (condition):\n",
    "        statement\n",
    "    elif (condition):\n",
    "        statement\n",
    "    .\n",
    "    .\n",
    "    else:\n",
    "        statement\n",
    "\n",
    "Q21. What is use of 'if', 'elif' and 'else' keywords?\n",
    "    used as conditional predefined keywords in python to validate conditions.\n"
   ]
  },
  {
   "cell_type": "code",
   "execution_count": 4,
   "id": "b147444d-2c78-4c80-a898-6301adfd4655",
   "metadata": {},
   "outputs": [
    {
     "name": "stdin",
     "output_type": "stream",
     "text": [
      "Enter your age 55\n"
     ]
    },
    {
     "name": "stdout",
     "output_type": "stream",
     "text": [
      "I can vote\n"
     ]
    }
   ],
   "source": [
    "#Q22. Write a code to take the age of person as an input and if age >= 18 display \"I can vote\". If age is < 18 display \"I can't vote\".\n",
    "age=int(input(\"Enter your age\"))\n",
    "if age>=18:\n",
    "    print(\"I can vote\")\n",
    "else:\n",
    "    print(\"I cant vote\")\n"
   ]
  },
  {
   "cell_type": "code",
   "execution_count": 5,
   "id": "2d5bf7ef-6113-4480-8a16-906a2b119f74",
   "metadata": {},
   "outputs": [
    {
     "name": "stdout",
     "output_type": "stream",
     "text": [
      "sum of even numbers 392\n"
     ]
    }
   ],
   "source": [
    "\n",
    "#Q23. Write a code that displays the sum of all the even numbers from the given list.\n",
    "#```\n",
    "#numbers = [12, 75, 150, 180, 145, 525, 50]\n",
    "#```\n",
    "numbers = [12, 75, 150, 180, 145, 525, 50]\n",
    "sum=0\n",
    "for i in numbers:\n",
    "    if i%2==0:\n",
    "        sum=sum+i\n",
    "print(\"sum of even numbers\",sum)\n"
   ]
  },
  {
   "cell_type": "code",
   "execution_count": 8,
   "id": "d46d3f80-05db-4944-9080-386a9525cd0c",
   "metadata": {},
   "outputs": [
    {
     "name": "stdin",
     "output_type": "stream",
     "text": [
      "Enter Number1 \n",
      " 22\n",
      "Enter Number2 \n",
      " 34\n",
      "Enter Number3 \n",
      " 34\n"
     ]
    },
    {
     "name": "stdout",
     "output_type": "stream",
     "text": [
      "Largest number is 34\n"
     ]
    }
   ],
   "source": [
    "#Q24. Write a code to take 3 numbers as an input from the user and display the greatest no as output.\n",
    "\n",
    "a=int(input(\"Enter Number1 \\n\"))\n",
    "b=int(input(\"Enter Number2 \\n\"))\n",
    "c=int(input(\"Enter Number3 \\n\"))\n",
    "if a>=b and a>=c:\n",
    "    print(\"Largest number is\",a)\n",
    "elif b>=a and b>=c:\n",
    "    print(\"Largest number is\",b)\n",
    "else:\n",
    "    print(\"Largest number is\",c)"
   ]
  },
  {
   "cell_type": "markdown",
   "id": "4109a5e1-7b19-435f-86da-0daf77259005",
   "metadata": {},
   "source": [
    "Q25. Write a program to display only those numbers from a list that satisfy the following conditions\n",
    "- The number must be divisible by five\n",
    "- If the number is greater than 150, then skip it and move to the next number\n",
    "- If the number is greater than 500, then stop the loop"
   ]
  },
  {
   "cell_type": "code",
   "execution_count": 9,
   "id": "d582c545-33bc-4a0e-9342-c25090e8842b",
   "metadata": {},
   "outputs": [
    {
     "name": "stdout",
     "output_type": "stream",
     "text": [
      "75\n",
      "150\n",
      "145\n",
      "50\n"
     ]
    }
   ],
   "source": [
    "numbers = [12, 75, 150, 180, 145, 525, 50]\n",
    "\n",
    "for i in numbers:\n",
    "    if i%5==0:\n",
    "        if i>150:\n",
    "            continue\n",
    "        if i>500:\n",
    "            break\n",
    "        else:\n",
    "            print(i)"
   ]
  },
  {
   "cell_type": "markdown",
   "id": "cd4348c8-0e61-4d47-b010-22b627b59e41",
   "metadata": {},
   "source": [
    "Q26. What is a string? How can we declare string in Python?\n",
    "    string is a array of bytes representing unicode characters.\n",
    "    e.g. string1=\"example\"\n",
    "         string2='abc'"
   ]
  },
  {
   "cell_type": "markdown",
   "id": "5343904f-84fe-4560-8eba-f3983a863577",
   "metadata": {},
   "source": [
    "Q27. How can we access the string using its index?\n",
    "    You can access the characters in a string by referring to its index number inside square brackets [] .\n",
    "    e.g. string1=\"example\"\n",
    "         print(string1[0])\n",
    "    o/p : e"
   ]
  },
  {
   "cell_type": "code",
   "execution_count": 10,
   "id": "d6e1c6d2-61c5-4f01-a651-a57886f47e10",
   "metadata": {},
   "outputs": [
    {
     "name": "stdout",
     "output_type": "stream",
     "text": [
      " iNeuron\n"
     ]
    }
   ],
   "source": [
    "#Q28. Write a code to get the desired output of the following\n",
    "string1 = \"Big Data iNeuron\"\n",
    "desired_output = \"iNeuron\"\n",
    "print(string1[8:])"
   ]
  },
  {
   "cell_type": "code",
   "execution_count": 11,
   "id": "e6039bdd-1aba-4dcc-abba-c80ce036a075",
   "metadata": {},
   "outputs": [
    {
     "name": "stdout",
     "output_type": "stream",
     "text": [
      "norueNi\n"
     ]
    }
   ],
   "source": [
    "#Q29. Write a code to get the desired output of the following\n",
    "\n",
    "string1 = \"Big Data iNeuron\"\n",
    "desired_output = \"norueNi\"\n",
    "print(string1[-1:-8:-1])"
   ]
  },
  {
   "cell_type": "code",
   "execution_count": 12,
   "id": "0496ff1c-cdb4-4b9c-bc86-916a1ae1d953",
   "metadata": {},
   "outputs": [
    {
     "name": "stdout",
     "output_type": "stream",
     "text": [
      "norueNi ataD giB\n"
     ]
    }
   ],
   "source": [
    "#Q30. Resverse the string given in the above question.\n",
    "string1 = \"Big Data iNeuron\"\n",
    "print(string1[::-1])"
   ]
  },
  {
   "cell_type": "markdown",
   "id": "a624bbb1-832e-4b08-a330-4132e768eb5e",
   "metadata": {},
   "source": [
    "Q31. How can you delete entire string at once?\n",
    "    str1=\"to be deleted\"\n",
    "    del str1"
   ]
  },
  {
   "cell_type": "markdown",
   "id": "64b98877-7986-4640-9cd2-353955b7211b",
   "metadata": {},
   "source": [
    "Q32. What is escape sequence?\n",
    "    An escape sequence is a sequence of characters that, when used inside a character or string, does not represent itself but is converted into another character or series of characters\n",
    "\n",
    "Q33. How can you print the below string?\n",
    "```\n",
    "'iNeuron's Big Data Course'\n",
    "```\n",
    "    print(\"'iNeuron's Big Data Course'\")"
   ]
  },
  {
   "cell_type": "markdown",
   "id": "fd4376cf-5165-4c6a-9724-4e40b82412ce",
   "metadata": {},
   "source": [
    "Q34. What is a list in Python?\n",
    "    A list is an ordered data structure with elements separated by a comma and enclosed within square brackets\n",
    "    list1=[23,3445,\"abc\",765]\n",
    "\n",
    "Q35. How can you create a list in Python?\n",
    "    List_name=[element1,elem2,....]"
   ]
  },
  {
   "cell_type": "code",
   "execution_count": 13,
   "id": "6e37596f-df00-4078-afcd-ee700672b93d",
   "metadata": {},
   "outputs": [
    {
     "name": "stdout",
     "output_type": "stream",
     "text": [
      "list1[0]:  physics\n",
      "list2[1:5]:  [2, 3, 4, 5]\n"
     ]
    }
   ],
   "source": [
    "#Q36. How can we access the elements in a list?\n",
    "list1 = ['physics', 'chemistry', 1997, 2000];\n",
    "list2 = [1, 2, 3, 4, 5, 6, 7 ];\n",
    "print(\"list1[0]: \", list1[0])\n",
    "print(\"list2[1:5]: \", list2[1:5])"
   ]
  },
  {
   "cell_type": "code",
   "execution_count": 14,
   "id": "25a6d7a8-c90b-4029-93d1-edcab4e3afd8",
   "metadata": {},
   "outputs": [
    {
     "name": "stdout",
     "output_type": "stream",
     "text": [
      "iNeuron\n"
     ]
    }
   ],
   "source": [
    "#Q37. Write a code to access the word \"iNeuron\" from the given list.\n",
    "lst = [1,2,3,\"Hi\",[45,54, \"iNeuron\"], \"Big Data\"]\n",
    "print(lst[4][2])"
   ]
  },
  {
   "cell_type": "code",
   "execution_count": 15,
   "id": "ed1dfa59-e6db-43fb-9507-38c572135c89",
   "metadata": {},
   "outputs": [
    {
     "name": "stdin",
     "output_type": "stream",
     "text": [
      "Enter the list items :  34 454 46 6 7 8 9 0 \n"
     ]
    },
    {
     "name": "stdout",
     "output_type": "stream",
     "text": [
      "[34, 454, 46, 6, 7, 8, 9, 0]\n",
      "8\n"
     ]
    }
   ],
   "source": [
    "#Q38. Take a list as an input from the user and find the length of the list.\n",
    "lst1 = [int(item) for item in input(\"Enter the list items : \").split()]\n",
    "print(lst1)\n",
    "print(len(lst1))"
   ]
  },
  {
   "cell_type": "code",
   "execution_count": 16,
   "id": "c6c0bced-2385-4a31-91ee-c377b60c36e5",
   "metadata": {},
   "outputs": [
    {
     "name": "stdout",
     "output_type": "stream",
     "text": [
      "['Welcome', 'to', 'Big', 'Data', 'course']\n"
     ]
    }
   ],
   "source": [
    "#Q39. Add the word \"Big\" in the 3rd index of the given list.\n",
    "\n",
    "lst = [\"Welcome\", \"to\", \"Data\", \"course\"]\n",
    "lst.insert(2,\"Big\")\n",
    "print(lst)"
   ]
  },
  {
   "cell_type": "markdown",
   "id": "13f8633f-3ead-40b1-a08d-068eab7101aa",
   "metadata": {},
   "source": [
    "Q40. What is a tuple? How is it different from list?\n",
    "    A list is a collection of ordered data. A tuple is an ordered collection of data.\n",
    "    \n",
    "Q41. How can you create a tuple in Python?\n",
    "    tup1=(elm1,elm2....)\n",
    "    A tuple is created by placing all the items (elements) inside parentheses () , separated by commas.\n",
    "\n",
    "Q42. Create a tuple and try to add your name in the tuple. Are you able to do it? Support your answer with reason.\n",
    "    tup1=(\"snehal\",)\n",
    "    print(tup1)\n",
    "    yes A tuple can have any number of items and they may be of different types (integer, float, list, string, etc.). "
   ]
  },
  {
   "cell_type": "code",
   "execution_count": 17,
   "id": "bf3b4b16-295a-4f86-a393-e390d301ce37",
   "metadata": {},
   "outputs": [
    {
     "name": "stdout",
     "output_type": "stream",
     "text": [
      "test_tup1= (1, 3, 5)\n",
      "test_tup2= (4, 6)\n",
      "after appending above two tuples= (1, 3, 5, 4, 6)\n"
     ]
    }
   ],
   "source": [
    "#Q43. Can two tuple be appended. If yes, write a code for it. If not, why?\n",
    "\n",
    "test_tup1 = (1, 3, 5)\n",
    "test_tup2 = (4, 6)\n",
    "# using + operator\n",
    "res = test_tup1 + test_tup2\n",
    "print(\"test_tup1=\",test_tup1)\n",
    "print(\"test_tup2=\",test_tup2)\n",
    "print(\"after appending above two tuples=\",res)"
   ]
  },
  {
   "cell_type": "code",
   "execution_count": 20,
   "id": "19eac9bf-a654-4021-9b8e-03e03001a0a6",
   "metadata": {},
   "outputs": [
    {
     "name": "stdin",
     "output_type": "stream",
     "text": [
      "enter tuple lements 4 5 6 7 8 9 \n"
     ]
    },
    {
     "name": "stdout",
     "output_type": "stream",
     "text": [
      "(4, 5, 6, 7, 8, 9)\n",
      "length of tuple1= 6\n"
     ]
    }
   ],
   "source": [
    "#Q44. Take a tuple as an input and print the count of elements in it.\n",
    "tuple1=tuple(int(item) for item in input(\"enter tuple lements\").split())\n",
    "print(tuple1)\n",
    "print(\"length of tuple1=\",len(tuple1))"
   ]
  },
  {
   "cell_type": "code",
   "execution_count": 21,
   "id": "34683d9f-2d8f-42a6-8bc3-d45d30d1bca6",
   "metadata": {},
   "outputs": [
    {
     "name": "stdout",
     "output_type": "stream",
     "text": [
      "{1, 2, 3}\n"
     ]
    }
   ],
   "source": [
    "#Q46. How can you create a set?\n",
    "# Different types of sets in Python\n",
    "#A set is created by placing all the items (elements) inside curly braces {}\n",
    "my_set = {1, 2, 3}\n",
    "print(my_set)"
   ]
  },
  {
   "cell_type": "code",
   "execution_count": 22,
   "id": "62242a0d-7808-4f13-9c8d-fb52573266f0",
   "metadata": {},
   "outputs": [
    {
     "name": "stdout",
     "output_type": "stream",
     "text": [
      "{'apple', 'banana', 'cherry'}\n"
     ]
    }
   ],
   "source": [
    "#Q47. Create a set and add \"iNeuron\" in your set.\n",
    "my_set={\"ineuron\"}\n",
    "\n",
    "#Q48. Try to add multiple values using add() function.\n",
    "fruits = set()\n",
    "fruits.add(\"apple\")\n",
    "fruits.add(\"banana\")\n",
    "fruits.add(\"cherry\")\n",
    "print(fruits)"
   ]
  },
  {
   "cell_type": "markdown",
   "id": "6eac6b02-3069-414f-9cce-be789efa3b30",
   "metadata": {},
   "source": [
    "Q49. How is update() different from add()?\n",
    "    We use add() method to add single value to a set. We use update() method to add sequence values to a set.\n",
    "    \n",
    "\n",
    "Q50. What is clear() in sets?\n",
    "    clear() methood removes all elements from set.\n",
    "\n",
    "Q51. What is frozen set?\n",
    "    Python frozenset() Method creates an immutable Set object from an iterable. It is a built-in Python function. \n",
    "\n",
    "Q52. How is frozen set different from set?\n",
    "    As it is a set object therefore we cannot have duplicate values in the frozenset.\n"
   ]
  },
  {
   "cell_type": "markdown",
   "id": "3f3b54d3-63a8-4914-802c-a9aca2791f5c",
   "metadata": {},
   "source": [
    "Q53. What is union() in sets? Explain via code.\n",
    "-it returns a set that contain all items from all specified sets."
   ]
  },
  {
   "cell_type": "code",
   "execution_count": 25,
   "id": "dfa39e1b-0769-4aa3-92a0-c37ba1946269",
   "metadata": {},
   "outputs": [
    {
     "name": "stdout",
     "output_type": "stream",
     "text": [
      "{'f', 'a', 'c', 'd', 'b', 'e'}\n"
     ]
    }
   ],
   "source": [
    "x = {\"a\", \"b\", \"c\"}\n",
    "y = {\"f\", \"d\", \"a\"}\n",
    "z = {\"c\", \"d\", \"e\"}\n",
    "result = x.union(y, z)\n",
    "print(result)"
   ]
  },
  {
   "cell_type": "code",
   "execution_count": 26,
   "id": "403bc626-d608-4fa7-908b-076ae80f581b",
   "metadata": {},
   "outputs": [
    {
     "name": "stdout",
     "output_type": "stream",
     "text": [
      "{'f', 'a'}\n"
     ]
    }
   ],
   "source": [
    "#Q54. What is intersection() in sets? Explain via code.\n",
    "#it returns a set that contain all common elements from specified set.\n",
    "\n",
    "x = {\"a\", \"b\", \"c\",\"f\"}\n",
    "y = {\"f\", \"d\", \"a\"}\n",
    "result = x.intersection(y) \n",
    "print(result)"
   ]
  },
  {
   "cell_type": "markdown",
   "id": "11f97251-2930-4e35-ab86-fdc728705f1f",
   "metadata": {},
   "source": [
    "Q55. What is dictionary in Python?\n",
    "    Dictionaries are Python's implementation of a data structure that is more generally known as an associative array.\n",
    "    typically consists of key-value pair."
   ]
  },
  {
   "cell_type": "markdown",
   "id": "52148e33-aedb-49a7-ba7b-87b6bcdc920c",
   "metadata": {},
   "source": [
    "Q56. How is dictionary different from all other data structures."
   ]
  },
  {
   "cell_type": "markdown",
   "id": "fb6eb753-161e-4d48-830c-d445e3ebde95",
   "metadata": {},
   "source": [
    "Q57. How can we delare a dictionary in Python?\n",
    "    d = {\n",
    "        <key>: <value>,\n",
    "        <key>: <value>,\n",
    "        .\n",
    "        .\n",
    "        .\n",
    "        <key>: <value>\n",
    "    }\n",
    "\n",
    "Q58. What will the output of the following?\n",
    "```\n",
    "var = {}\n",
    "print(type(var))\n",
    "```\n",
    "output: <class 'dict'>"
   ]
  },
  {
   "cell_type": "code",
   "execution_count": 27,
   "id": "3557f119-ddf1-4280-925b-f5e04dd21a2d",
   "metadata": {},
   "outputs": [
    {
     "name": "stdout",
     "output_type": "stream",
     "text": [
      "{'India': 91, 'UK': 44}\n",
      "{'India': 91, 'UK': 44, 'Germany': 49}\n",
      "{'India': 91, 'UK': 44, 'Germany': 49, 'Austria': 43, 'Russia': 7}\n"
     ]
    }
   ],
   "source": [
    "#Q59. How can we add an element in a dictionary?\n",
    "\n",
    "Country = {\"India\": 91, \"UK\" : 44}\n",
    "print(Country)\n",
    "Country.update( {'Germany' : 49} )\n",
    "print(Country)\n",
    "# Adding multiple key value pairs\n",
    "Country.update( [('Austria', 43),('Russia',7)] )\n",
    "print(Country)"
   ]
  },
  {
   "cell_type": "code",
   "execution_count": 29,
   "id": "5d9a8a82-8a1b-418c-8c79-71f9a0ffc24c",
   "metadata": {},
   "outputs": [
    {
     "name": "stdout",
     "output_type": "stream",
     "text": [
      "91\n",
      "44\n",
      "71\n",
      "34\n"
     ]
    }
   ],
   "source": [
    "#Q60. Create a dictionary and access all the values in that dictionary.\n",
    "Country = {\"India\": 91, \"UK\" : 44, \"japan\": 71, \"USA\" : 34}\n",
    "for v in Country.values():\n",
    "    print(v)"
   ]
  },
  {
   "cell_type": "code",
   "execution_count": 31,
   "id": "f9cd170d-78b7-4eb4-9a2e-3eab0390db73",
   "metadata": {},
   "outputs": [
    {
     "name": "stdout",
     "output_type": "stream",
     "text": [
      "{'name': 'John', 'age': '27', 'sex': 'Male'}\n",
      "{'name': 'Marie', 'age': '22', 'sex': 'Female'}\n",
      "{1: {'name': 'John', 'age': '27', 'sex': 'Male'}, 2: {'name': 'Marie', 'age': '22', 'sex': 'Female'}}\n"
     ]
    }
   ],
   "source": [
    "#Q61. Create a nested dictionary and access all the element in the inner dictionary.\n",
    "people = {1: {'name': 'John', 'age': '27', 'sex': 'Male'},2: {'name': 'Marie', 'age': '22', 'sex': 'Female'}}\n",
    "print(people[1])\n",
    "print(people[2])\n",
    "print(people)"
   ]
  },
  {
   "cell_type": "raw",
   "id": "a1cda7ce-ba67-49c8-9fa9-6a3b8011c61b",
   "metadata": {},
   "source": [
    "    \n",
    "Q62. What is the use of get() function?\n",
    "    get()\tReturns the value of the specified key\n",
    "\n",
    "Q63. What is the use of items() function?\n",
    "    items()\tReturns a list containing a tuple for each key value pair\n",
    "    people = {'name': 'John', 'age': '27', 'sex': 'Male'}\n",
    "    for k,v in people.items():\n",
    "        print(k,v)\n",
    "\n",
    "Q64. What is the use of pop() function?\n",
    "    pop()\tRemoves the element with the specified key\n",
    "\n",
    "Q65. What is the use of popitems() function?\n",
    "    popitem()\tRemoves the last inserted key-value pair\n",
    "\n",
    "Q66. What is the use of keys() function?\n",
    "    keys()\tReturns a list containing the dictionary's keys\n",
    "\n",
    "Q67. What is the use of values() function?\n",
    "    Returns a list of all the values in the dictionary\n",
    "\n",
    "Q68. What are loops in Python?\n",
    "\n",
    "Q69. How many type of loop are there in Python?\n",
    "    for loop - A for loop is used for iterating over a sequence (that is either a list, a tuple, a dictionary, a set, or a string).\n",
    "    while Loop - With the while loop we can execute a set of statements as long as a condition is true.\n",
    "\n",
    "Q70. What is the difference between for and while loops?\n",
    "    The major difference between for loop and the while loop is that for loop is used when the number of iterations is known, whereas execution is done in the while loop until the statement in the program is proved wrong\n",
    "\n",
    "Q71. What is the use of continue statement?\n",
    "    With the continue statement we can stop the current iteration, and continue with the next\n",
    "\n",
    "Q72. What is the use of break statement?\n",
    "    With the break statement we can stop the loop before it has looped through all the items:\n",
    "\n",
    "Q73. What is the use of pass statement?\n",
    "    When the pass statement is executed, nothing happens, but you avoid getting an error when empty code is not allowed. Empty code is not allowed in loops, function definitions, class definitions, or in if statements.\n",
    "\n",
    "Q74. What is the use of range() function?\n",
    "    The range() function returns a sequence of numbers, starting from 0 by default, and increments by 1 (by default), and stops before a specified number.\n",
    "\n",
    "Q75. How can you loop over a dictionary?\n",
    "    Access key using the build .keys() \n",
    "    Access key without using a key() \n",
    "    Iterate through all values using .values()\n",
    "    Iterate through all key, and value pairs using items()\n",
    "\n"
   ]
  },
  {
   "cell_type": "markdown",
   "id": "997d2241-2124-44fc-bf85-b955d3839ba8",
   "metadata": {},
   "source": [
    "CODING PROBLEMS"
   ]
  },
  {
   "cell_type": "code",
   "execution_count": 32,
   "id": "3d26d206-117d-4544-92f9-34cd0d38c679",
   "metadata": {},
   "outputs": [
    {
     "name": "stdin",
     "output_type": "stream",
     "text": [
      "Enter a number:  5\n"
     ]
    },
    {
     "name": "stdout",
     "output_type": "stream",
     "text": [
      "The factorial of 5 is 120\n"
     ]
    }
   ],
   "source": [
    "#Q76. Write a Python program to find the factorial of a given number.\n",
    "num = int(input(\"Enter a number: \"))    \n",
    "factorial = 1    \n",
    "if num < 0:\n",
    "    print(\" Factorial does not exist for negative numbers\")    \n",
    "elif num == 0:\n",
    "    print(\"The factorial of 0 is 1\")    \n",
    "else:    \n",
    "    for i in range(1,num + 1):\n",
    "        factorial = factorial*i    \n",
    "\n",
    "print(\"The factorial of\",num,\"is\",factorial)   "
   ]
  },
  {
   "cell_type": "code",
   "execution_count": 33,
   "id": "2c2e3064-be3b-47bd-8aa5-126720b8e166",
   "metadata": {},
   "outputs": [
    {
     "name": "stdout",
     "output_type": "stream",
     "text": [
      "The principal is 8\n",
      "The time period is 6\n",
      "The rate of interest is 8\n",
      "The Simple Interest is 3.84\n"
     ]
    },
    {
     "data": {
      "text/plain": [
       "3.84"
      ]
     },
     "execution_count": 33,
     "metadata": {},
     "output_type": "execute_result"
    }
   ],
   "source": [
    "#Q77. Write a Python program to calculate the simple interest. Formula to calculate simple interest is SI = (P*R*T)/100\n",
    "\n",
    "def simple_interest(p,t,r):\n",
    "    print('The principal is', p)\n",
    "    print('The time period is', t)\n",
    "    print('The rate of interest is',r)\n",
    "    si = (p * t * r)/100\n",
    "    print('The Simple Interest is', si)\n",
    "    return si\n",
    "\n",
    "simple_interest(8, 6, 8)"
   ]
  },
  {
   "cell_type": "code",
   "execution_count": 34,
   "id": "2f63555d-931e-4582-a683-c32b36212667",
   "metadata": {},
   "outputs": [
    {
     "name": "stdout",
     "output_type": "stream",
     "text": [
      "Compound interest is 6288.946267774416\n"
     ]
    }
   ],
   "source": [
    "#Q78. Write a Python program to calculate the compound interest. Formula of compound interest is A = P(1+ R/100)^t.\n",
    "    \n",
    "def compound_interest(principle, rate, time):\n",
    "    Amount = principle * (pow((1 + rate / 100), time))\n",
    "    CI = Amount - principle\n",
    "    print(\"Compound interest is\", CI)\n",
    "    \n",
    "compound_interest(10000, 10.25, 5)"
   ]
  },
  {
   "cell_type": "code",
   "execution_count": 38,
   "id": "87365fb0-16dd-47bd-9247-8777bb3209ba",
   "metadata": {},
   "outputs": [
    {
     "name": "stdin",
     "output_type": "stream",
     "text": [
      "Enter a number:  17\n"
     ]
    },
    {
     "name": "stdout",
     "output_type": "stream",
     "text": [
      "17 is a prime number\n"
     ]
    }
   ],
   "source": [
    "#Q79. Write a Python program to check if a number is prime or not.\n",
    "num = int(input(\"Enter a number: \"))\n",
    "\n",
    "if num > 1:\n",
    "    for i in range(2,num):\n",
    "        if (num % i) == 0:\n",
    "            print(num,\"is not a prime number\")\n",
    "            print(i,\"times\",num//i,\"is\",num)\n",
    "            break\n",
    "        else:\n",
    "            print(num,\"is a prime number\")\n",
    "            break\n",
    "else:\n",
    "    print(num,\"is not a prime number\")"
   ]
  },
  {
   "cell_type": "code",
   "execution_count": 45,
   "id": "2546ac3e-4524-40bd-9baf-5109304cbebf",
   "metadata": {},
   "outputs": [
    {
     "name": "stdin",
     "output_type": "stream",
     "text": [
      "enter a number to check armstrog= 153\n"
     ]
    },
    {
     "name": "stdout",
     "output_type": "stream",
     "text": [
      "armstrong\n"
     ]
    }
   ],
   "source": [
    "#Q80. Write a Python program to check Armstrong Number.\n",
    "num=int(input(\"enter a number to check armstrog=\"))\n",
    "summ=0\n",
    "temp=num\n",
    "while temp>0:\n",
    "    remain=temp%10\n",
    "    summ+=remain**3\n",
    "    temp=temp//10\n",
    "    \n",
    "if num==summ:\n",
    "    print(\"armstrong\")\n",
    "else:\n",
    "    print(\"not a armstrog no.\")"
   ]
  },
  {
   "cell_type": "code",
   "execution_count": 1,
   "id": "13d44bd3-fe93-4dac-8681-310478d07010",
   "metadata": {},
   "outputs": [
    {
     "name": "stdout",
     "output_type": "stream",
     "text": [
      "144\n"
     ]
    }
   ],
   "source": [
    "#Q81. Write a Python program to find the n-th Fibonacci Number.\n",
    "def Fibb(n):\n",
    "    if n<=0:\n",
    "        print(\"incorrect no.\")\n",
    "    elif n==1:\n",
    "        return 0\n",
    "    elif n==2:\n",
    "        return 1\n",
    "    else:\n",
    "        return Fibb(n-1)+Fibb(n-2)\n",
    "\n",
    "print(Fibb(13))"
   ]
  },
  {
   "cell_type": "code",
   "execution_count": 2,
   "id": "cd809df5-760a-48a9-a940-054a8a6b9ddf",
   "metadata": {},
   "outputs": [
    {
     "name": "stdout",
     "output_type": "stream",
     "text": [
      "[12, 35, 9, 56, 24]\n",
      "[24, 35, 9, 56, 12]\n"
     ]
    }
   ],
   "source": [
    "#Q82. Write a Python program to interchange the first and last element in a list.\n",
    "def swapList(newList):\n",
    "    temp = newList[0]\n",
    "    newList[0] = newList[-1]\n",
    "    newList[-1] = temp\n",
    "    return newList\n",
    "\n",
    "newList = [12, 35, 9, 56, 24]\n",
    "\n",
    "print(newList)\n",
    "print(swapList(newList))"
   ]
  },
  {
   "cell_type": "code",
   "execution_count": 3,
   "id": "58586284-d30e-4eaf-ad16-0878da0a62da",
   "metadata": {},
   "outputs": [
    {
     "name": "stdout",
     "output_type": "stream",
     "text": [
      "[23, 65, 19, 90]\n",
      "[23, 90, 19, 65]\n"
     ]
    }
   ],
   "source": [
    "#Q83. Write a Python program to swap two elements in a list.\n",
    "list1 = [23, 65, 19, 90]\n",
    "print(list1)\n",
    "pos1, pos2 = 1, 3\n",
    "list1[pos1], list1[pos2] = list1[pos2], list1[pos1]\n",
    "print(list1)"
   ]
  },
  {
   "cell_type": "code",
   "execution_count": 4,
   "id": "9c747493-6f80-4d91-ac55-2b1f01e5396b",
   "metadata": {},
   "outputs": [
    {
     "name": "stdout",
     "output_type": "stream",
     "text": [
      "[85, 41]\n"
     ]
    }
   ],
   "source": [
    "#Q84. Write a Python program to find N largest element from a list.\n",
    "    \n",
    "def Nmaxelements(list1, N):\n",
    "\tfinal_list = []\n",
    "\tfor i in range(0, N):\n",
    "\t\tmax1 = 0\n",
    "\t\tfor j in range(len(list1)):\t\n",
    "\t\t\tif list1[j] > max1:\n",
    "\t\t\t\tmax1 = list1[j];\n",
    "\t\t\t\t\n",
    "\t\tlist1.remove(max1);\n",
    "\t\tfinal_list.append(max1)\n",
    "\t\t\n",
    "\tprint(final_list)\n",
    "\t\n",
    "list1 = [2, 6, 41, 85, 0, 3, 7, 6, 10]\n",
    "N = 2\n",
    "\n",
    "Nmaxelements(list1, N)"
   ]
  },
  {
   "cell_type": "code",
   "execution_count": 5,
   "id": "b912773a-885c-44df-812c-ce6264564bed",
   "metadata": {},
   "outputs": [
    {
     "name": "stdout",
     "output_type": "stream",
     "text": [
      "cumulative sum of list= [10, 30, 60, 100, 150]\n"
     ]
    }
   ],
   "source": [
    "#Q85. Write a Python program to find cumulative sum of a list.\n",
    "newlist=[]\n",
    "list=[10,20,30,40,50]\n",
    "j=0\n",
    "for i in range(0,len(list)):\n",
    "    j=j+list[i]\n",
    "    newlist.append(j)\n",
    "print(\"cumulative sum of list=\",newlist)"
   ]
  },
  {
   "cell_type": "code",
   "execution_count": 7,
   "id": "e0599c61-8f10-4941-bf1f-2cfddcbae65f",
   "metadata": {},
   "outputs": [
    {
     "name": "stdin",
     "output_type": "stream",
     "text": [
      "enter a string plz= naan\n"
     ]
    },
    {
     "name": "stdout",
     "output_type": "stream",
     "text": [
      "Palindrome\n"
     ]
    }
   ],
   "source": [
    "#Q86. Write a Python program to check if a string is palindrome or not.\n",
    "s=input(\"enter a string plz=\")\n",
    "if s==s[::-1]:\n",
    "    print(\"Palindrome\")\n",
    "else:\n",
    "    print(\"not a palindrome\")"
   ]
  },
  {
   "cell_type": "code",
   "execution_count": 8,
   "id": "20c077bb-d3b4-495f-85f3-ad6732c064ff",
   "metadata": {},
   "outputs": [
    {
     "name": "stdin",
     "output_type": "stream",
     "text": [
      "enter a string plz= thisis\n",
      "enter a index to remove character 4\n"
     ]
    },
    {
     "name": "stdout",
     "output_type": "stream",
     "text": [
      "newstring= thiss\n"
     ]
    }
   ],
   "source": [
    "#Q87. Write a Python program to remove i'th element from a string.\n",
    "s=input(\"enter a string plz=\")\n",
    "n=int(input(\"enter a index to remove character\"))\n",
    "s1= \"\"\n",
    "for i in range(len(s)):\n",
    "    if i!=n:\n",
    "        s1 = s1+s[i]\n",
    "print(\"newstring=\",s1)"
   ]
  },
  {
   "cell_type": "code",
   "execution_count": 9,
   "id": "02361fd9-f743-4c69-8f05-d64db3a2365b",
   "metadata": {},
   "outputs": [
    {
     "name": "stdin",
     "output_type": "stream",
     "text": [
      "enter a string plz= nolyak\n",
      "enter a substring= lya\n"
     ]
    },
    {
     "name": "stdout",
     "output_type": "stream",
     "text": [
      "substring present\n"
     ]
    }
   ],
   "source": [
    "#Q88. Write a Python program to check if a substring is present in a given string.\n",
    "s=input(\"enter a string plz=\")\n",
    "s1=input(\"enter a substring=\")\n",
    "if s1 in s:\n",
    "    print(\"substring present\")\n",
    "else:\n",
    "    print(\"not present\")"
   ]
  },
  {
   "cell_type": "code",
   "execution_count": 10,
   "id": "06552e19-f1c1-4631-af97-d4e526e30949",
   "metadata": {},
   "outputs": [
    {
     "name": "stdin",
     "output_type": "stream",
     "text": [
      "enter a no:- 4\n",
      "Enter a String= snehl is a great student she willachieve \n"
     ]
    },
    {
     "name": "stdout",
     "output_type": "stream",
     "text": [
      "['snehl', 'is', 'a', 'great', 'student', 'she', 'willachieve', '']\n",
      "['snehl', 'great', 'student', 'willachieve']\n"
     ]
    }
   ],
   "source": [
    "#Q89. Write a Python program to find words which are greater than given length k.\n",
    "def string_k(k, str):\n",
    "    string = []\n",
    "    text = str.split(\" \")\n",
    "    print(text)\n",
    "    for x in text:\n",
    "        if len(x) > k:\n",
    "            string.append(x)\n",
    "    return string\n",
    "        \n",
    "    #calling a function\t\n",
    "k = int(input(\"enter a no:-\"))\n",
    "str = input(\"Enter a String=\")\n",
    "print(string_k(k, str))"
   ]
  },
  {
   "cell_type": "code",
   "execution_count": 21,
   "id": "0ac5a0ca-f361-4709-8222-9a5bef37cfe9",
   "metadata": {},
   "outputs": [
    {
     "name": "stdin",
     "output_type": "stream",
     "text": [
      "How many elements?:  3\n",
      "Enter key:  d\n",
      "Enter value:  3 4\n",
      "Enter key:  g\n",
      "Enter value:  4 5\n",
      "Enter key:  h\n",
      "Enter value:  4 5 6\n"
     ]
    },
    {
     "name": "stdout",
     "output_type": "stream",
     "text": [
      "{'d': '3 4', 'g': '4 5', 'h': '4 5 6'}\n",
      "Unique Values = [' ', '3', '4', '5', '6']\n"
     ]
    }
   ],
   "source": [
    "#Q90. Write a Python program to extract unique dictionary values.\n",
    "myDict = {}\n",
    "num = int(input(\"How many elements?: \"))\n",
    "for i in range(num):\n",
    "    k = input(\"Enter key: \")\n",
    "    v = input(\"Enter value: \")\n",
    "    myDict.update({k:v})\n",
    "res = list(sorted({val for val in myDict.values() for val in val}))\n",
    "\n",
    "print(myDict)\n",
    "print(\"Unique Values =\",res)"
   ]
  },
  {
   "cell_type": "code",
   "execution_count": 23,
   "id": "3d269334-b0e4-4fc5-8060-576be8eb4546",
   "metadata": {},
   "outputs": [
    {
     "name": "stdout",
     "output_type": "stream",
     "text": [
      "{1: 'a', 2: 'c', 4: 'd'}\n"
     ]
    }
   ],
   "source": [
    "#Q91. Write a Python program to merge two dictionary.\n",
    "dict_1 = {1: 'a', 2: 'b'}\n",
    "dict_2 = {2: 'c', 4: 'd'}\n",
    "\n",
    "print(dict_1 | dict_2)"
   ]
  },
  {
   "cell_type": "code",
   "execution_count": 24,
   "id": "c81496d3-a753-4eeb-8819-2c75a42f61e3",
   "metadata": {},
   "outputs": [
    {
     "name": "stdout",
     "output_type": "stream",
     "text": [
      "[('Sachin', 10), ('MSD', 7), ('Kohli', 18), ('Rohit', 45)]\n",
      "{'Sachin': [10], 'MSD': [7], 'Kohli': [18], 'Rohit': [45]}\n"
     ]
    }
   ],
   "source": [
    "#Q92. Write a Python program to convert a list of tuples into dictionary.```\n",
    "#Input : [('Sachin', 10), ('MSD', 7), ('Kohli', 18), ('Rohit', 45)]\n",
    "#Output : {'Sachin': 10, 'MSD': 7, 'Kohli': 18, 'Rohit': 45}\n",
    "list1=[('Sachin', 10), ('MSD', 7), ('Kohli', 18), ('Rohit', 45)]\n",
    "dict1=dict()\n",
    "\n",
    "for k,v in list1:\n",
    "    dict1.setdefault(k,[]).append(v)\n",
    "\n",
    "print(list1)\n",
    "print(dict1)"
   ]
  },
  {
   "cell_type": "code",
   "execution_count": 25,
   "id": "c4398875-501b-4d98-ae66-6e0cc86f49c5",
   "metadata": {},
   "outputs": [
    {
     "name": "stdout",
     "output_type": "stream",
     "text": [
      "[(9, 729), (5, 125), (6, 216)]\n"
     ]
    }
   ],
   "source": [
    "#Q93. Write a Python program to create a list of tuples from given list having number and its cube in each tuple.\n",
    "#Input: list = [9, 5, 6]  Output: [(9, 729), (5, 125), (6, 216)]\n",
    "list1=[9,5,6]\n",
    "new_tuple=[(i,i**3) for i in list1]\n",
    "print(new_tuple)\n"
   ]
  },
  {
   "cell_type": "code",
   "execution_count": 26,
   "id": "e00018bc-9cfe-40c4-99e8-d6e810faf65f",
   "metadata": {},
   "outputs": [
    {
     "name": "stdin",
     "output_type": "stream",
     "text": [
      "Enter space separted integers for tuple 1 = 7 2\n",
      "Enter space separted integers for tuple 1 = 7 8\n"
     ]
    },
    {
     "name": "stdout",
     "output_type": "stream",
     "text": [
      "('7', '2') ('7', '8')\n",
      "[('7', '7'), ('7', '8'), ('2', '7'), ('2', '8'), ('7', '7'), ('7', '2'), ('8', '7'), ('8', '2')]\n"
     ]
    }
   ],
   "source": [
    "#Q94. Write a Python program to get all combinations of 2 tuples.\n",
    "#Input : test_tuple1 = (7, 2), test_tuple2 = (7, 8)\n",
    "#Output : [(7, 7), (7, 8), (2, 7), (2, 8), (7, 7), (7, 2), (8, 7), (8, 2)]\n",
    "\n",
    "from itertools import product,chain\n",
    "t1=tuple(input(\"Enter space separted integers for tuple 1 =\").split())\n",
    "t2=tuple(input(\"Enter space separted integers for tuple 1 =\").split())\n",
    "print(t1,t2)\n",
    "result=list(chain(product(t1,t2),product(t2,t1)))\n",
    "print(result)"
   ]
  },
  {
   "cell_type": "code",
   "execution_count": 27,
   "id": "552d3af4-6d8e-4548-8f68-50dc0b46eb75",
   "metadata": {},
   "outputs": [
    {
     "name": "stdout",
     "output_type": "stream",
     "text": [
      "[('Geeks', 8), ('for', 24), ('Geeks', 30)]\n"
     ]
    }
   ],
   "source": [
    "#Q95. Write a Python program to sort a list of tuples by second item.\n",
    "#Input : [('for', 24), ('Geeks', 8), ('Geeks', 30)]  Output : [('Geeks', 8), ('for', 24), ('Geeks', 30)]\n",
    "\n",
    "def Sort_Tuple(tup):\n",
    "\tlst = len(tup)\n",
    "\tfor i in range(0, lst):\n",
    "\t\tfor j in range(0, lst-i-1):\n",
    "\t\t\tif (tup[j][1] > tup[j + 1][1]):\n",
    "\t\t\t\ttemp = tup[j]\n",
    "\t\t\t\ttup[j]= tup[j + 1]\n",
    "\t\t\t\ttup[j + 1]= temp\n",
    "\treturn tup\n",
    "\n",
    "tup =[('for', 24), ('Geeks', 8), ('Geeks', 30)]\n",
    "print(Sort_Tuple(tup))"
   ]
  },
  {
   "cell_type": "markdown",
   "id": "a54f3a42-d498-4eb8-a3ec-80540aff1677",
   "metadata": {},
   "source": [
    "Q96. Write a python program to print below pattern.\n",
    "```\n",
    "* \n",
    "* * \n",
    "* * * \n",
    "* * * * \n",
    "* * * * * \n",
    "```\n"
   ]
  },
  {
   "cell_type": "code",
   "execution_count": 30,
   "id": "f8453543-0c0e-45d0-8c4c-b0e224e31a76",
   "metadata": {},
   "outputs": [
    {
     "name": "stdout",
     "output_type": "stream",
     "text": [
      " * \n",
      " *  * \n",
      " *  *  * \n",
      " *  *  *  * \n",
      " *  *  *  *  * \n"
     ]
    }
   ],
   "source": [
    "def pypart(n):\n",
    "    for i in range(0, n):\n",
    "        for j in range(0, i+1):\n",
    "            print(\" * \",end=\"\")\n",
    "        print(\"\\r\")\n",
    "n = 5\n",
    "pypart(n)"
   ]
  },
  {
   "cell_type": "markdown",
   "id": "24f6ad1f-a849-4db7-b6a1-950360ce110e",
   "metadata": {},
   "source": [
    "Q97. Write a python program to print below pattern.\n",
    "```\n",
    "    *\n",
    "   **\n",
    "  ***\n",
    " ****\n",
    "*****\n",
    "```\n",
    "      "
   ]
  },
  {
   "cell_type": "code",
   "execution_count": 33,
   "id": "65f46e16-2367-45c5-b710-090579e258f4",
   "metadata": {},
   "outputs": [
    {
     "name": "stdout",
     "output_type": "stream",
     "text": [
      "     \n",
      "    *\n",
      "   **\n",
      "  ***\n",
      " ****\n",
      "*****\n",
      "\n"
     ]
    }
   ],
   "source": [
    "n=5;i=0\n",
    "while(i<=n):\n",
    "    print(\" \" * (n - i) +\"*\" * i)\n",
    "    i+=1\n",
    "print()  "
   ]
  },
  {
   "cell_type": "markdown",
   "id": "1e08322d-da1d-42bf-9650-47cd899a5881",
   "metadata": {},
   "source": [
    "\n",
    "Q98. Write a python program to print below pattern.\n",
    "```\n",
    "    * \n",
    "   * * \n",
    "  * * * \n",
    " * * * * \n",
    "* * * * * \n",
    "```"
   ]
  },
  {
   "cell_type": "code",
   "execution_count": 48,
   "id": "8977b98b-9592-4874-b0d5-c934bf5397a7",
   "metadata": {},
   "outputs": [
    {
     "name": "stdout",
     "output_type": "stream",
     "text": [
      "    * \n",
      "   * * \n",
      "  * * * \n",
      " * * * * \n",
      "* * * * * \n"
     ]
    }
   ],
   "source": [
    "def triangle(n):\n",
    "    k = n - 1\n",
    "    for i in range(0, n):\n",
    "        for j in range(0, k):\n",
    "            print(end=\" \")\n",
    "        k = k - 1\n",
    "        for j in range(0, i+1):\n",
    "            print(\"* \", end=\"\")\n",
    "        print(\"\\r\")\n",
    "n = 5\n",
    "triangle(n)\n"
   ]
  },
  {
   "cell_type": "markdown",
   "id": "7b6b8e67-2d0b-4a76-a05a-8e6fac319dad",
   "metadata": {},
   "source": [
    "Q99. Write a python program to print below pattern.\n",
    "```\n",
    "1 \n",
    "1 2 \n",
    "1 2 3 \n",
    "1 2 3 4 \n",
    "1 2 3 4 5\n",
    "```"
   ]
  },
  {
   "cell_type": "code",
   "execution_count": 49,
   "id": "f52691a4-6da5-48d6-b64c-a4d7b04cc96c",
   "metadata": {},
   "outputs": [
    {
     "name": "stdout",
     "output_type": "stream",
     "text": [
      "1 \n",
      "1 2 \n",
      "1 2 3 \n",
      "1 2 3 4 \n",
      "1 2 3 4 5 \n"
     ]
    }
   ],
   "source": [
    "rows = 5\n",
    "for i in range(1, rows + 1):\n",
    "    for j in range(1, i + 1):\n",
    "        print(j, end=' ')\n",
    "    print('')"
   ]
  },
  {
   "cell_type": "markdown",
   "id": "2ae2d204-bc6e-4d24-890e-2d68ed3474a3",
   "metadata": {},
   "source": [
    "\n",
    "Q100. Write a python program to print below pattern.\n",
    "```\n",
    "A \n",
    "B B \n",
    "C C C \n",
    "D D D D \n",
    "E E E E E \n",
    "``` "
   ]
  },
  {
   "cell_type": "code",
   "execution_count": 56,
   "id": "0e4d2549-0692-4e6d-a6b9-6f20ad1383b2",
   "metadata": {},
   "outputs": [
    {
     "name": "stdout",
     "output_type": "stream",
     "text": [
      "A \n",
      "B B \n",
      "C C C \n",
      "D D D D \n",
      "E E E E E \n"
     ]
    }
   ],
   "source": [
    "n = 5\n",
    "p=65\n",
    "for i in range(n):\n",
    "    for j in range(i+1):\n",
    "        print(chr(p), end=' ')\n",
    "    print(\"\\r\")\n",
    "    p+=1"
   ]
  },
  {
   "cell_type": "code",
   "execution_count": null,
   "id": "65c27430-596a-424e-9d18-949be37e5e82",
   "metadata": {},
   "outputs": [],
   "source": []
  },
  {
   "cell_type": "code",
   "execution_count": null,
   "id": "70419743-70f8-4d02-884c-c253d3eee552",
   "metadata": {},
   "outputs": [],
   "source": []
  }
 ],
 "metadata": {
  "kernelspec": {
   "display_name": "Python 3 (ipykernel)",
   "language": "python",
   "name": "python3"
  },
  "language_info": {
   "codemirror_mode": {
    "name": "ipython",
    "version": 3
   },
   "file_extension": ".py",
   "mimetype": "text/x-python",
   "name": "python",
   "nbconvert_exporter": "python",
   "pygments_lexer": "ipython3",
   "version": "3.10.6"
  }
 },
 "nbformat": 4,
 "nbformat_minor": 5
}
